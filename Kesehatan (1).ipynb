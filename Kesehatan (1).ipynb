{
  "nbformat": 4,
  "nbformat_minor": 0,
  "metadata": {
    "colab": {
      "private_outputs": true,
      "provenance": [],
      "collapsed_sections": []
    },
    "kernelspec": {
      "name": "python3",
      "display_name": "Python 3"
    },
    "language_info": {
      "name": "python"
    }
  },
  "cells": [
    {
      "cell_type": "code",
      "execution_count": null,
      "metadata": {
        "id": "WWv476D-Hefx"
      },
      "outputs": [],
      "source": [
        "from google.colab import drive #memanggil package import drive\n",
        "drive.mount('/content/drive')"
      ]
    },
    {
      "cell_type": "code",
      "source": [
        "import pandas as pd\n",
        "\n",
        "path = '/content/drive/MyDrive/csv/kesehatan.csv'\n",
        "df = pd.read_csv(path)\n",
        "\n",
        "df.describe()"
      ],
      "metadata": {
        "id": "lFQHXRcjftnt"
      },
      "execution_count": null,
      "outputs": []
    },
    {
      "cell_type": "code",
      "source": [
        "df"
      ],
      "metadata": {
        "id": "jh8LIRbwf4cP"
      },
      "execution_count": null,
      "outputs": []
    },
    {
      "cell_type": "code",
      "source": [
        "import matplotlib.pyplot as plt\n",
        "\n",
        "df.plot(kind='scatter', x='jumlah', y='tahun')\n",
        "\n",
        "plt.title('Jumlah Tenaga Kesehatan Kota')\n",
        "plt.xlabel('jumlah')\n",
        "plt.ylabel('tahun')\n",
        "plt.xlim(0,  6780)  #UNTUK MEMBUAT BATAS PADA VISUALISASI X\n",
        "plt.ylim(0, 56) #UNTUK MEMBUAT BATAS PADA VISUALISAI Y\n",
        "plt.grid(True)\n",
        "plt.show()"
      ],
      "metadata": {
        "id": "P_8s035if7g3"
      },
      "execution_count": null,
      "outputs": []
    },
    {
      "cell_type": "code",
      "source": [
        "import numpy as np\n",
        "X = np.array(df['jumlah']) #Feature\n",
        "y = np.array(df['tahun']) #Target\n",
        "\n",
        "print(f'x : {X}') #DATA X ITU ADALAH VARIABLE INDEPENDENT ATAU BEBAS\n",
        "print(f'y : {y}') #VAR Y ITU ADALAH VARIABLE TERIKAT/DEPENDENT"
      ],
      "metadata": {
        "id": "7mZE3z3fknRU"
      },
      "execution_count": null,
      "outputs": []
    },
    {
      "cell_type": "code",
      "source": [
        "X = X.reshape(-1, 1)\n",
        "X.shape"
      ],
      "metadata": {
        "id": "R-pp5ytbkxja"
      },
      "execution_count": null,
      "outputs": []
    },
    {
      "cell_type": "code",
      "source": [
        "X"
      ],
      "metadata": {
        "id": "Ir_AVnick1Ky"
      },
      "execution_count": null,
      "outputs": []
    },
    {
      "cell_type": "code",
      "source": [
        "from sklearn.linear_model import LinearRegression\n",
        "\n",
        "model = LinearRegression()\n",
        "model.fit(X, y)    "
      ],
      "metadata": {
        "id": "wEPRc8wgk2PJ"
      },
      "execution_count": null,
      "outputs": []
    },
    {
      "cell_type": "code",
      "source": [
        "X_vis = np.array([0, 6780]).reshape(-1, 1)\n",
        "y_vis = model.predict(X_vis)"
      ],
      "metadata": {
        "id": "uekX_rSMk5l0"
      },
      "execution_count": null,
      "outputs": []
    },
    {
      "cell_type": "code",
      "source": [
        "plt.scatter(X, y)\n",
        "plt.plot(X_vis, y_vis, '-r')\n",
        "plt.title('Jumlah Tenaga Kesehatan Kota')\n",
        "plt.xlabel('jumlah ')\n",
        "plt.ylabel('tahun')\n",
        "plt.xlim(0,  6780) #UNTUK MEMBUAT BATAS PADA VISUALISASI X\n",
        "plt.ylim(0, 56) #UNTUK MEMBUAT BATAS PADA VISUALISAI Y\n",
        "plt.grid(True)\n",
        "plt.show()"
      ],
      "metadata": {
        "id": "IAKULQt6lAws"
      },
      "execution_count": null,
      "outputs": []
    },
    {
      "cell_type": "code",
      "source": [
        "print(f'intercept : {model.intercept_}')\n",
        "print(f'slope : {model.coef_}')"
      ],
      "metadata": {
        "id": "srzsnAaUs94r"
      },
      "execution_count": null,
      "outputs": []
    },
    {
      "cell_type": "code",
      "source": [
        "jml_penduduk = np.array([8000, 9000, 10000, 11000, 12000]).reshape(-1, 1)\n",
        "jml_penduduk "
      ],
      "metadata": {
        "id": "JEpROQN8tRCr"
      },
      "execution_count": null,
      "outputs": []
    },
    {
      "cell_type": "code",
      "source": [
        "prediksi_indeks = model.predict(jml_penduduk)\n",
        "prediksi_indeks"
      ],
      "metadata": {
        "id": "ZPN2O5eZ54BB"
      },
      "execution_count": null,
      "outputs": []
    },
    {
      "cell_type": "code",
      "source": [
        "for penduduk, index in zip(jml_penduduk, prediksi_indeks):\n",
        "  print(f'Jumlah Penduduk : {penduduk} prediksi indeks : {index}')"
      ],
      "metadata": {
        "id": "l6c8AZM457bB"
      },
      "execution_count": null,
      "outputs": []
    },
    {
      "cell_type": "code",
      "source": [
        "fig = plt.figure()\n",
        "ax = fig.add_axes([0,0,1,1])\n",
        "indeks = (df['jumlah'])\n",
        "jumlah = (df['tahun'])\n",
        "c = ['blue', 'red', 'green', 'yellow', 'purple']\n",
        "plt.title(\"Jumlah Tenaga Kesehatan Kota\")\n",
        "plt.xlabel('jumlah ')\n",
        "plt.ylabel('tahun')\n",
        "plt.bar(indeks, jumlah, color = c)\n",
        "plt.grid(True)\n",
        "plt.show()"
      ],
      "metadata": {
        "id": "_7pUHzBT5-Gn"
      },
      "execution_count": null,
      "outputs": []
    },
    {
      "cell_type": "code",
      "source": [
        "fig = plt.figure()\n",
        "ax = fig.add_axes([0,0,1,1])\n",
        "ax.axis('equal')\n",
        "plt.title(\"Jumlah Tenaga Kesehatan Kota\")\n",
        "plt.xlabel('jumlah ')\n",
        "plt.ylabel('tahun')\n",
        "ax.pie(jumlah,labels=indeks,autopct='%1.2f%%')\n",
        "plt.show()"
      ],
      "metadata": {
        "id": "yyPafN_I6ABn"
      },
      "execution_count": null,
      "outputs": []
    }
  ]
}