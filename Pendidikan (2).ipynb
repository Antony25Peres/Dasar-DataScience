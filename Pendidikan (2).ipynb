{
  "nbformat": 4,
  "nbformat_minor": 0,
  "metadata": {
    "colab": {
      "private_outputs": true,
      "provenance": [],
      "collapsed_sections": []
    },
    "kernelspec": {
      "name": "python3",
      "display_name": "Python 3"
    },
    "language_info": {
      "name": "python"
    }
  },
  "cells": [
    {
      "cell_type": "code",
      "execution_count": null,
      "metadata": {
        "id": "X0l2X66RHwhy"
      },
      "outputs": [],
      "source": [
        "from google.colab import drive #memanggil package import drive\n",
        "drive.mount('/content/drive')"
      ]
    },
    {
      "cell_type": "code",
      "source": [
        "import pandas as pd\n",
        "\n",
        "path = '/content/drive/MyDrive/csv/Pendidikan.csv'\n",
        "df = pd.read_csv(path)\n",
        "\n",
        "df.describe()"
      ],
      "metadata": {
        "id": "b4Ayu9Hqnm3_"
      },
      "execution_count": null,
      "outputs": []
    },
    {
      "cell_type": "code",
      "source": [
        "df.info()"
      ],
      "metadata": {
        "id": "ESsSNpYvoANX"
      },
      "execution_count": null,
      "outputs": []
    },
    {
      "cell_type": "code",
      "source": [
        "df"
      ],
      "metadata": {
        "id": "PLgRj6teoEwj"
      },
      "execution_count": null,
      "outputs": []
    },
    {
      "cell_type": "code",
      "source": [
        "import matplotlib.pyplot as plt\n",
        "\n",
        "df.plot(kind='scatter', x='siswa', y='guru')\n",
        "\n",
        "plt.title('Data Sebaran Sekolah SD')\n",
        "plt.xlabel('siswa')\n",
        "plt.ylabel('guru')\n",
        "plt.xlim(0,  573)  #UNTUK MEMBUAT BATAS PADA VISUALISASI X\n",
        "plt.ylim(0, 42) #UNTUK MEMBUAT BATAS PADA VISUALISAI Y\n",
        "plt.grid(True)\n",
        "plt.show()"
      ],
      "metadata": {
        "id": "a2a-N5h4qaFo"
      },
      "execution_count": null,
      "outputs": []
    },
    {
      "cell_type": "code",
      "source": [
        "import numpy as np\n",
        "X = np.array(df['siswa']) #Feature\n",
        "y = np.array(df['guru']) #Target\n",
        "\n",
        "print(f'x : {X}') #DATA X ITU ADALAH VARIABLE INDEPENDENT ATAU BEBAS\n",
        "print(f'y : {y}') #VAR Y ITU ADALAH VARIABLE TERIKAT/DEPENDENT"
      ],
      "metadata": {
        "id": "OIjErHjgqgJO"
      },
      "execution_count": null,
      "outputs": []
    },
    {
      "cell_type": "code",
      "source": [
        "X = X.reshape(-1, 1)\n",
        "X.shape"
      ],
      "metadata": {
        "id": "PWSTnDsYqkHM"
      },
      "execution_count": null,
      "outputs": []
    },
    {
      "cell_type": "code",
      "source": [
        "X"
      ],
      "metadata": {
        "id": "MrHUyg6gqlhT"
      },
      "execution_count": null,
      "outputs": []
    },
    {
      "cell_type": "code",
      "source": [
        "from sklearn.linear_model import LinearRegression\n",
        "\n",
        "model = LinearRegression()\n",
        "model.fit(X, y)   "
      ],
      "metadata": {
        "id": "4Z8B-s-1qoyN"
      },
      "execution_count": null,
      "outputs": []
    },
    {
      "cell_type": "code",
      "source": [
        "X_vis = np.array([0, 573]).reshape(-1, 1)\n",
        "y_vis = model.predict(X_vis)"
      ],
      "metadata": {
        "id": "S_d8PhAJq4hI"
      },
      "execution_count": null,
      "outputs": []
    },
    {
      "cell_type": "code",
      "source": [
        "plt.scatter(X, y)\n",
        "plt.plot(X_vis, y_vis, '-r')\n",
        "plt.title('Data Sebaran Sekolah SD')\n",
        "plt.xlabel('siswa ')\n",
        "plt.ylabel('guru')\n",
        "plt.xlim(0,  573) #UNTUK MEMBUAT BATAS PADA VISUALISASI X\n",
        "plt.ylim(0, 42) #UNTUK MEMBUAT BATAS PADA VISUALISAI Y\n",
        "plt.grid(True)\n",
        "plt.show()"
      ],
      "metadata": {
        "id": "Nxw-pCayxY1z"
      },
      "execution_count": null,
      "outputs": []
    },
    {
      "cell_type": "code",
      "source": [
        "df['siswa'].sum()"
      ],
      "metadata": {
        "id": "ZumQcVG9Fx0q"
      },
      "execution_count": null,
      "outputs": []
    },
    {
      "cell_type": "code",
      "source": [
        "df['guru'].sum()"
      ],
      "metadata": {
        "id": "q2v4ocz0F71M"
      },
      "execution_count": null,
      "outputs": []
    },
    {
      "cell_type": "code",
      "source": [
        "print(f'intercept : {model.intercept_}')\n",
        "print(f'slope : {model.coef_}')"
      ],
      "metadata": {
        "id": "gW8eO9hJxq5O"
      },
      "execution_count": null,
      "outputs": []
    },
    {
      "cell_type": "code",
      "source": [
        "jml_penduduk = np.array([13000, 14000, 15000, 16000, 17000]).reshape(-1, 1)\n",
        "jml_penduduk "
      ],
      "metadata": {
        "id": "p5nIQcarx1Mp"
      },
      "execution_count": null,
      "outputs": []
    },
    {
      "cell_type": "code",
      "source": [
        "prediksi_indeks = model.predict(jml_penduduk)\n",
        "prediksi_indeks"
      ],
      "metadata": {
        "id": "TYt0JjVN7HMG"
      },
      "execution_count": null,
      "outputs": []
    },
    {
      "cell_type": "code",
      "source": [
        "for penduduk, index in zip(jml_penduduk, prediksi_indeks):\n",
        "  print(f'Jumlah Penduduk : {penduduk} prediksi indeks : {index}')"
      ],
      "metadata": {
        "id": "8i3gJBup7JrG"
      },
      "execution_count": null,
      "outputs": []
    },
    {
      "cell_type": "code",
      "source": [
        "fig = plt.figure()\n",
        "ax = fig.add_axes([0,0,1,1])\n",
        "indeks = ('siswa', 'guru')\n",
        "jumlah = (7674, 469)\n",
        "c = ['blue', 'red', 'green', 'yellow', 'purple']\n",
        "plt.title(\"Data Sebaran Sekolah SD\")\n",
        "plt.xlabel('siswa ')\n",
        "plt.ylabel('guru')\n",
        "plt.bar(indeks, jumlah, color = c)\n",
        "plt.grid(True)\n",
        "plt.show()"
      ],
      "metadata": {
        "id": "rH1cZVvI7L0C"
      },
      "execution_count": null,
      "outputs": []
    },
    {
      "cell_type": "code",
      "source": [
        "fig = plt.figure()\n",
        "ax = fig.add_axes([0,0,1,1])\n",
        "ax.axis('equal')\n",
        "plt.title(\"Data Sebaran Sekolah SD\")\n",
        "plt.xlabel('siswa ')\n",
        "plt.ylabel('guru')\n",
        "ax.pie(jumlah,labels=indeks,autopct='%1.2f%%')\n",
        "plt.show()"
      ],
      "metadata": {
        "id": "7VcFlRzo7PJD"
      },
      "execution_count": null,
      "outputs": []
    }
  ]
}