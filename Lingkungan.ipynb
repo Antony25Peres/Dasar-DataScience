{
  "nbformat": 4,
  "nbformat_minor": 0,
  "metadata": {
    "colab": {
      "private_outputs": true,
      "provenance": [],
      "collapsed_sections": []
    },
    "kernelspec": {
      "name": "python3",
      "display_name": "Python 3"
    },
    "language_info": {
      "name": "python"
    }
  },
  "cells": [
    {
      "cell_type": "code",
      "execution_count": null,
      "metadata": {
        "id": "NE3lfZJOG3Mh"
      },
      "outputs": [],
      "source": [
        "from google.colab import drive #memanggil package import drive\n",
        "drive.mount('/content/drive')"
      ]
    },
    {
      "cell_type": "code",
      "source": [
        "import pandas as pd\n",
        "\n",
        "path = '/content/drive/MyDrive/csv/komunitas.csv'\n",
        "df = pd.read_csv(path)\n",
        "\n",
        "df.describe()"
      ],
      "metadata": {
        "id": "dpryHS-aZaad"
      },
      "execution_count": null,
      "outputs": []
    },
    {
      "cell_type": "code",
      "source": [
        "df"
      ],
      "metadata": {
        "id": "xyFkED1gZj5u"
      },
      "execution_count": null,
      "outputs": []
    },
    {
      "cell_type": "code",
      "source": [
        "import matplotlib.pyplot as plt\n",
        "\n",
        "df.plot(kind='scatter', x='pm10', y='pm25')\n",
        "\n",
        "plt.title('Indeks Standar Pencemar Udara di Provinsi DKI Jakarta')\n",
        "plt.xlabel('pm10')\n",
        "plt.ylabel('pm25')\n",
        "plt.xlim(0, 90 ) #UNTUK MEMBUAT BATAS PADA VISUALISASI X\n",
        "plt.ylim(9, 140 ) #UNTUK MEMBUAT BATAS PADA VISUALISAI Y\n",
        "plt.grid(True)\n",
        "plt.show()"
      ],
      "metadata": {
        "id": "dMTijrC4ZmgQ"
      },
      "execution_count": null,
      "outputs": []
    },
    {
      "cell_type": "code",
      "source": [
        "import numpy as np\n",
        "X = np.array(df['pm10']) #Feature\n",
        "y = np.array(df['pm25']) #Target\n",
        "\n",
        "print(f'x : {X}') #DATA X ITU ADALAH VARIABLE INDEPENDENT ATAU BEBAS\n",
        "print(f'y : {y}') #VAR Y ITU ADALAH VARIABLE TERIKAT/DEPENDENT"
      ],
      "metadata": {
        "id": "uzTAa3RAcqUE"
      },
      "execution_count": null,
      "outputs": []
    },
    {
      "cell_type": "code",
      "source": [
        "X = X.reshape(-1, 1)\n",
        "X.shape"
      ],
      "metadata": {
        "id": "wmPp8Mg_cy91"
      },
      "execution_count": null,
      "outputs": []
    },
    {
      "cell_type": "code",
      "source": [
        "X"
      ],
      "metadata": {
        "id": "eKbZeUExc2eW"
      },
      "execution_count": null,
      "outputs": []
    },
    {
      "cell_type": "code",
      "source": [
        "from sklearn.linear_model import LinearRegression\n",
        "\n",
        "model = LinearRegression()\n",
        "model.fit(X, y)"
      ],
      "metadata": {
        "id": "7AJZLJFqc4fP"
      },
      "execution_count": null,
      "outputs": []
    },
    {
      "cell_type": "code",
      "source": [
        "X_vis = np.array([0, 90]).reshape(-1, 1)\n",
        "y_vis = model.predict(X_vis)"
      ],
      "metadata": {
        "id": "Cq_SO8Wzc80X"
      },
      "execution_count": null,
      "outputs": []
    },
    {
      "cell_type": "code",
      "source": [
        "plt.scatter(X, y)\n",
        "plt.plot(X_vis, y_vis, '-r')\n",
        "plt.title('Indeks Standar Pencemar Udara di Provinsi DKI Jakarta')\n",
        "plt.xlabel('pm10 ')\n",
        "plt.ylabel('pm25')\n",
        "plt.xlim(0, 90) #UNTUK MEMBUAT BATAS PADA VISUALISASI X\n",
        "plt.ylim(9, 140) #UNTUK MEMBUAT BATAS PADA VISUALISAI Y\n",
        "plt.grid(True)\n",
        "plt.show()"
      ],
      "metadata": {
        "id": "X3vCi5DzdCtA"
      },
      "execution_count": null,
      "outputs": []
    },
    {
      "cell_type": "code",
      "source": [
        "print(f'intercept : {model.intercept_}')\n",
        "print(f'slope : {model.coef_}')"
      ],
      "metadata": {
        "id": "ng6cJXUepRqI"
      },
      "execution_count": null,
      "outputs": []
    },
    {
      "cell_type": "code",
      "source": [
        "jml_penduduk = np.array([3000, 4000, 5000, 6000, 7000]).reshape(-1, 1)\n",
        "jml_penduduk "
      ],
      "metadata": {
        "id": "dNS_U0tsrR9f"
      },
      "execution_count": null,
      "outputs": []
    },
    {
      "cell_type": "code",
      "source": [
        "prediksi_indeks = model.predict(jml_penduduk)\n",
        "prediksi_indeks"
      ],
      "metadata": {
        "id": "0gNjTf0f3pWw"
      },
      "execution_count": null,
      "outputs": []
    },
    {
      "cell_type": "code",
      "source": [
        "for penduduk, index in zip(jml_penduduk, prediksi_indeks):\n",
        "  print(f'Jumlah Penduduk : {penduduk} prediksi indeks : {index}')"
      ],
      "metadata": {
        "id": "RNfTsGht4hKD"
      },
      "execution_count": null,
      "outputs": []
    },
    {
      "cell_type": "code",
      "source": [
        "fig = plt.figure()\n",
        "ax = fig.add_axes([0,0,1,1])\n",
        "indeks = (df['pm25'])\n",
        "jumlah = (df['pm10'])\n",
        "c = ['blue', 'red', 'green', 'yellow', 'purple']\n",
        "plt.title(\"Indeks Standar Pencemar Udara di Provinsi DKI Jakarta\")\n",
        "plt.xlabel(\"pm10\")\n",
        "plt.ylabel(\"pm25\")\n",
        "plt.bar(indeks, jumlah, color = c)\n",
        "plt.grid(True)\n",
        "plt.show()"
      ],
      "metadata": {
        "id": "3ONEn-KJ4kn9"
      },
      "execution_count": null,
      "outputs": []
    },
    {
      "cell_type": "code",
      "source": [
        "fig = plt.figure()\n",
        "ax = fig.add_axes([0,0,1,1])\n",
        "ax.axis('equal')\n",
        "plt.title(\" \")\n",
        "plt.xlabel('pm10')\n",
        "plt.ylabel('pm25')\n",
        "ax.pie(jumlah,labels=indeks,autopct='%1.2f%%')\n",
        "plt.show()"
      ],
      "metadata": {
        "id": "uyrCBGfo4r5Y"
      },
      "execution_count": null,
      "outputs": []
    }
  ]
}